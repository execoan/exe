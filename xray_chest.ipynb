{
 "cells": [
  {
   "cell_type": "code",
   "execution_count": 1,
   "id": "d5245fea-9b57-4297-b8c0-b2d45d17c2e5",
   "metadata": {},
   "outputs": [],
   "source": [
    "import numpy as np\n",
    "import os\n",
    "from PIL import Image\n",
    "import seaborn as sns\n",
    "import matplotlib.pyplot as plt\n",
    "import random\n",
    "import keras\n",
    "from keras.utils import np_utils\n",
    "from keras.preprocessing.image import ImageDataGenerator\n",
    "from keras import models\n",
    "from keras.models import Model\n",
    "from keras.models import Sequential\n",
    "from keras.layers import Conv2D, Activation, MaxPooling2D, Dropout, GlobalAveragePooling1D, GlobalAveragePooling2D, Flatten, BatchNormalization, Dense\n",
    "from keras import optimizers\n",
    "from keras.optimizers import Adam, SGD , RMSprop\n",
    "\n",
    "from sklearn.metrics import confusion_matrix, classification_report,f1_score,recall_score,precision_score\n",
    "import seaborn as sns\n",
    "import cv2\n"
   ]
  },
  {
   "cell_type": "markdown",
   "id": "cbb7844a-4f4e-4085-9e78-5f1d5be8af7c",
   "metadata": {},
   "source": [
    "Sources:\n",
    "1. https://www.stackvidhya.com/plot-confusion-matrix-in-python-and-why/\n",
    "2. https://github.com/anjanatiha/Pneumonia-Detection-from-Chest-X-Ray-Images-with-Deep-Learning/ 3.https://www.kaggle.com/paultimothymooney/chest-xray-pneumonia\n",
    "##I added some val data "
   ]
  },
  {
   "cell_type": "code",
   "execution_count": null,
   "id": "9061d532-317d-44d8-ae2e-d8e43f56fbec",
   "metadata": {},
   "outputs": [],
   "source": []
  },
  {
   "cell_type": "code",
   "execution_count": 2,
   "id": "c575b226-767f-4ea8-a251-3cf8cfd9dd81",
   "metadata": {},
   "outputs": [],
   "source": [
    "from os import listdir\n",
    "from os.path import isfile\n",
    "def load_list(path):\n",
    "    return [path+f for f in listdir(path) if isfile(path+f)]\n",
    "\n",
    "train_normal_filename = load_list(\"./archive/chest_xray/train/NORMAL/\")\n",
    "train_pne_filename = load_list(\"./archive/chest_xray/train/PNEUMONIA/\")\n",
    "\n",
    "test_normal_filename = load_list(\"./archive/chest_xray/test/NORMAL/\")\n",
    "test_pne_filename = load_list(\"./archive/chest_xray/test/PNEUMONIA/\")\n",
    "\n",
    "val_normal_filename = load_list(\"./archive/chest_xray/val/NORMAL/\")\n",
    "val_pne_filename = load_list(\"./archive/chest_xray/val/PNEUMONIA/\")\n",
    "\n",
    "random.shuffle(train_normal_filename)\n",
    "random.shuffle(train_pne_filename)\n",
    "random.shuffle(test_normal_filename)\n",
    "random.shuffle(test_pne_filename)\n",
    "random.shuffle(val_normal_filename)\n",
    "random.shuffle(val_pne_filename)\n",
    "##For fast learning process\n",
    "def cutdata(data,k):\n",
    "    return data[:k]\n",
    "\n",
    "#train_normal_filename = cutdata(train_normal_filename,10)\n",
    "#train_pne_filename = cutdata(train_pne_filename,10)\n",
    "#test_normal_filename = cutdata(test_normal_filename,20)\n",
    "#test_pne_filename = cutdata(test_normal_filename,20)\n",
    "\n",
    "\n"
   ]
  },
  {
   "cell_type": "markdown",
   "id": "d13d897e-4db6-4529-af6f-5402f44fd26e",
   "metadata": {},
   "source": [
    "# SHOW PIC with CV2 Library"
   ]
  },
  {
   "cell_type": "code",
   "execution_count": 3,
   "id": "7f9d6ee2-78fa-495f-b52d-4b2463d58aea",
   "metadata": {},
   "outputs": [],
   "source": [
    "\n",
    "img_path = val_normal_filename[0]\n",
    "title = img_path.split(\"/\")[-1]\n",
    "def show(img_path,name='predict.png',title='predicttitle'):\n",
    "    if os.path.isfile(img_path):\n",
    "\n",
    "        img = cv2.imread(img_path,1)\n",
    "        #print(img)\n",
    "        plt.title(title)\n",
    "        plt.imshow(img)\n",
    "\n",
    "        plt.xticks([])\n",
    "        plt.yticks([])\n",
    "        plt.savefig(name, dpi=200)\n",
    "\n",
    "        plt.tight_layout()\n",
    "        #plt.show()\n",
    "        plt.clf()\n",
    "        plt.close()\n",
    "show(img_path,name='test.png',title=title)"
   ]
  },
  {
   "cell_type": "markdown",
   "id": "eac7719b-8d7a-4674-9e97-95552c886abf",
   "metadata": {},
   "source": [
    "# LOAD TRAIN DATA "
   ]
  },
  {
   "cell_type": "code",
   "execution_count": 4,
   "id": "69ab7fc1-b2b7-423d-8e19-6e9c20e9f0e8",
   "metadata": {},
   "outputs": [
    {
     "name": "stdout",
     "output_type": "stream",
     "text": [
      "Shape X_train (5168, 150, 150, 3) Shape y (5168,)\n"
     ]
    }
   ],
   "source": [
    "X_train = []\n",
    "y_train = []\n",
    "for i in train_normal_filename:\n",
    "    X_train.append(cv2.resize(cv2.imread(i,1), (150, 150)))\n",
    "    y_train.append(0)\n",
    "for i in train_pne_filename:\n",
    "    X_train.append(cv2.resize(cv2.imread(i,1), (150, 150)))\n",
    "    y_train.append(1)\n",
    "print('Shape X_train', np.shape(X_train), 'Shape y', np.shape(y_train))    "
   ]
  },
  {
   "cell_type": "markdown",
   "id": "d4eab468-d338-41dc-9d4f-fd8d73360e37",
   "metadata": {},
   "source": [
    "# LOAD TEST and VAL DATA"
   ]
  },
  {
   "cell_type": "code",
   "execution_count": 5,
   "id": "754575b0-6eec-4b67-bddc-5cf711cb64fa",
   "metadata": {},
   "outputs": [
    {
     "name": "stdout",
     "output_type": "stream",
     "text": [
      "Shape X_test (624, 150, 150, 3) Shape y (624,)\n",
      "Shape X_val (72, 150, 150, 3) Shape y (72,)\n",
      "channels_last\n"
     ]
    }
   ],
   "source": [
    "X_test = []\n",
    "y_test = []\n",
    "for i in test_normal_filename:\n",
    "    X_test.append(cv2.resize(cv2.imread(i,1), (150, 150)))\n",
    "    y_test.append(0)\n",
    "for i in test_pne_filename:\n",
    "    X_test.append(cv2.resize(cv2.imread(i,1), (150, 150)))\n",
    "    y_test.append(1)\n",
    "print('Shape X_test', np.shape(X_test), 'Shape y', np.shape(y_test)) \n",
    "\n",
    "X_val = []\n",
    "y_val = []\n",
    "for i in val_normal_filename:\n",
    "    X_val.append(cv2.resize(cv2.imread(i,1), (150, 150)))\n",
    "    y_val.append(0)\n",
    "for i in val_pne_filename:\n",
    "    X_val.append(cv2.resize(cv2.imread(i,1), (150, 150)))\n",
    "    y_val.append(1)\n",
    "print('Shape X_val', np.shape(X_val), 'Shape y', np.shape(y_val)) \n",
    "\n",
    "from keras import backend as K\n",
    "print(K.image_data_format()) # print current format\n",
    "K.set_image_data_format('channels_last') "
   ]
  },
  {
   "cell_type": "markdown",
   "id": "86e0d4af-e124-4a7e-be3e-56b54e93a278",
   "metadata": {},
   "source": [
    "# Preprocessing"
   ]
  },
  {
   "cell_type": "code",
   "execution_count": 16,
   "id": "fd86f326-23fb-41ad-98bb-7a1ce9507beb",
   "metadata": {},
   "outputs": [
    {
     "name": "stdout",
     "output_type": "stream",
     "text": [
      "(150, 150, 3) (150, 150, 3)\n",
      "(150, 150, 3) (150, 150, 3)\n",
      "(624,)\n",
      "[0 0 0 0 0 0 0 0 0 0 0 0 0 0 0 0 0 0 0 0 0 0 0 0 0 0 0 0 0 0 0 0 0 0 0 0 0\n",
      " 0 0 0 0 0 0 0 0 0 0 0 0 0 0 0 0 0 0 0 0 0 0 0 0 0 0 0 0 0 0 0 0 0 0 0 0 0\n",
      " 0 0 0 0 0 0 0 0 0 0 0 0 0 0 0 0 0 0 0 0 0 0 0 0 0 0 0 0 0 0 0 0 0 0 0 0 0\n",
      " 0 0 0 0 0 0 0 0 0 0 0 0 0 0 0 0 0 0 0 0 0 0 0 0 0 0 0 0 0 0 0 0 0 0 0 0 0\n",
      " 0 0 0 0 0 0 0 0 0 0 0 0 0 0 0 0 0 0 0 0 0 0 0 0 0 0 0 0 0 0 0 0 0 0 0 0 0\n",
      " 0 0 0 0 0 0 0 0 0 0 0 0 0 0 0 0 0 0 0 0 0 0 0 0 0 0 0 0 0 0 0 0 0 0 0 0 0\n",
      " 0 0 0 0 0 0 0 0 0 0 0 0 1 1 1 1 1 1 1 1 1 1 1 1 1 1 1 1 1 1 1 1 1 1 1 1 1\n",
      " 1 1 1 1 1 1 1 1 1 1 1 1 1 1 1 1 1 1 1 1 1 1 1 1 1 1 1 1 1 1 1 1 1 1 1 1 1\n",
      " 1 1 1 1 1 1 1 1 1 1 1 1 1 1 1 1 1 1 1 1 1 1 1 1 1 1 1 1 1 1 1 1 1 1 1 1 1\n",
      " 1 1 1 1 1 1 1 1 1 1 1 1 1 1 1 1 1 1 1 1 1 1 1 1 1 1 1 1 1 1 1 1 1 1 1 1 1\n",
      " 1 1 1 1 1 1 1 1 1 1 1 1 1 1 1 1 1 1 1 1 1 1 1 1 1 1 1 1 1 1 1 1 1 1 1 1 1\n",
      " 1 1 1 1 1 1 1 1 1 1 1 1 1 1 1 1 1 1 1 1 1 1 1 1 1 1 1 1 1 1 1 1 1 1 1 1 1\n",
      " 1 1 1 1 1 1 1 1 1 1 1 1 1 1 1 1 1 1 1 1 1 1 1 1 1 1 1 1 1 1 1 1 1 1 1 1 1\n",
      " 1 1 1 1 1 1 1 1 1 1 1 1 1 1 1 1 1 1 1 1 1 1 1 1 1 1 1 1 1 1 1 1 1 1 1 1 1\n",
      " 1 1 1 1 1 1 1 1 1 1 1 1 1 1 1 1 1 1 1 1 1 1 1 1 1 1 1 1 1 1 1 1 1 1 1 1 1\n",
      " 1 1 1 1 1 1 1 1 1 1 1 1 1 1 1 1 1 1 1 1 1 1 1 1 1 1 1 1 1 1 1 1 1 1 1 1 1\n",
      " 1 1 1 1 1 1 1 1 1 1 1 1 1 1 1 1 1 1 1 1 1 1 1 1 1 1 1 1 1 1 1 1]\n"
     ]
    }
   ],
   "source": [
    "\n",
    "scale = 1./255\n",
    "X_train = np.array(X_train)*scale\n",
    "X_test = np.array(X_test)*scale\n",
    "X_val = np.array(X_val)*scale\n",
    "\n",
    "y_train = np.array(y_train)\n",
    "y_test = np.array(y_test)\n",
    "y_val = np.array(y_val)\n",
    "\n",
    "print(np.shape(X_train[0]),np.shape(X_train[1]))\n",
    "print(np.shape(X_test[0]),np.shape(X_test[1]))\n",
    "\n",
    "print(np.shape(y_test))\n",
    "#print(y_test)"
   ]
  },
  {
   "cell_type": "code",
   "execution_count": null,
   "id": "7e1fedf5-7ae4-40e7-ba03-d61a05b865e6",
   "metadata": {},
   "outputs": [],
   "source": []
  },
  {
   "cell_type": "code",
   "execution_count": 7,
   "id": "4acc91f2-0f79-402a-b219-9fa7a20633ef",
   "metadata": {},
   "outputs": [],
   "source": [
    "def get_CNN_model(input_shape):\n",
    "    model = Sequential()\n",
    "    model.add(Conv2D(16, (3, 3), activation='relu', padding=\"same\", input_shape=input_shape, data_format='channels_last'))\n",
    "    model.add(Conv2D(16, (3, 3), padding=\"same\", activation='relu'))\n",
    "    model.add(MaxPooling2D(pool_size=(2, 2)))\n",
    "    \n",
    "    model.add(Conv2D(32, (3, 3), activation='relu', padding=\"same\", input_shape=(3,150,150)))\n",
    "    model.add(Conv2D(32, (3, 3), padding=\"same\", activation='relu'))\n",
    "    model.add(MaxPooling2D(pool_size=(2, 2)))\n",
    "\n",
    "    model.add(Conv2D(64, (3, 3), activation='relu', padding=\"same\"))\n",
    "    model.add(Conv2D(64, (3, 3), padding=\"same\", activation='relu'))\n",
    "    model.add(MaxPooling2D(pool_size=(2, 2)))\n",
    "    \n",
    "    model.add(Conv2D(96, (3, 3), dilation_rate=(2, 2), activation='relu', padding=\"same\"))\n",
    "    model.add(Conv2D(96, (3, 3), padding=\"valid\", activation='relu'))\n",
    "    model.add(MaxPooling2D(pool_size=(2, 2)))\n",
    "\n",
    "    model.add(Conv2D(128, (3, 3), dilation_rate=(2, 2), activation='relu', padding=\"same\"))\n",
    "    model.add(Conv2D(128, (3, 3), padding=\"valid\", activation='relu'))\n",
    "    model.add(MaxPooling2D(pool_size=(2, 2)))\n",
    "    \n",
    "    model.add(Flatten())\n",
    "\n",
    "    model.add(Dense(64, activation='relu'))\n",
    "    model.add(Dropout(0.1))\n",
    "    model.add(Dense(2 , activation='softmax'))\n",
    "\n",
    "    print(model.summary())\n",
    "    \n",
    "    return model"
   ]
  },
  {
   "cell_type": "code",
   "execution_count": 8,
   "id": "d6753e2a-2490-4327-abd0-9dc9c2316617",
   "metadata": {},
   "outputs": [
    {
     "name": "stdout",
     "output_type": "stream",
     "text": [
      "(5168, 150, 150, 3)\n",
      "(5168, 150, 150, 3) (150, 150, 3)\n",
      "Model: \"sequential\"\n",
      "_________________________________________________________________\n",
      "Layer (type)                 Output Shape              Param #   \n",
      "=================================================================\n",
      "conv2d (Conv2D)              (None, 150, 150, 16)      448       \n",
      "_________________________________________________________________\n",
      "conv2d_1 (Conv2D)            (None, 150, 150, 16)      2320      \n",
      "_________________________________________________________________\n",
      "max_pooling2d (MaxPooling2D) (None, 75, 75, 16)        0         \n",
      "_________________________________________________________________\n",
      "conv2d_2 (Conv2D)            (None, 75, 75, 32)        4640      \n",
      "_________________________________________________________________\n",
      "conv2d_3 (Conv2D)            (None, 75, 75, 32)        9248      \n",
      "_________________________________________________________________\n",
      "max_pooling2d_1 (MaxPooling2 (None, 37, 37, 32)        0         \n",
      "_________________________________________________________________\n",
      "conv2d_4 (Conv2D)            (None, 37, 37, 64)        18496     \n",
      "_________________________________________________________________\n",
      "conv2d_5 (Conv2D)            (None, 37, 37, 64)        36928     \n",
      "_________________________________________________________________\n",
      "max_pooling2d_2 (MaxPooling2 (None, 18, 18, 64)        0         \n",
      "_________________________________________________________________\n",
      "conv2d_6 (Conv2D)            (None, 18, 18, 96)        55392     \n",
      "_________________________________________________________________\n",
      "conv2d_7 (Conv2D)            (None, 16, 16, 96)        83040     \n",
      "_________________________________________________________________\n",
      "max_pooling2d_3 (MaxPooling2 (None, 8, 8, 96)          0         \n",
      "_________________________________________________________________\n",
      "conv2d_8 (Conv2D)            (None, 8, 8, 128)         110720    \n",
      "_________________________________________________________________\n",
      "conv2d_9 (Conv2D)            (None, 6, 6, 128)         147584    \n",
      "_________________________________________________________________\n",
      "max_pooling2d_4 (MaxPooling2 (None, 3, 3, 128)         0         \n",
      "_________________________________________________________________\n",
      "flatten (Flatten)            (None, 1152)              0         \n",
      "_________________________________________________________________\n",
      "dense (Dense)                (None, 64)                73792     \n",
      "_________________________________________________________________\n",
      "dropout (Dropout)            (None, 64)                0         \n",
      "_________________________________________________________________\n",
      "dense_1 (Dense)              (None, 2)                 130       \n",
      "=================================================================\n",
      "Total params: 542,738\n",
      "Trainable params: 542,738\n",
      "Non-trainable params: 0\n",
      "_________________________________________________________________\n",
      "None\n"
     ]
    }
   ],
   "source": [
    "print(X_train.shape)\n",
    "X_train= X_train.reshape(len(X_train),150, 150, 3)\n",
    "print(X_train.shape, X_train.shape[1:])\n",
    "\n",
    "model = get_CNN_model(X_train.shape[1:])\n"
   ]
  },
  {
   "cell_type": "code",
   "execution_count": 9,
   "id": "bab7cea8-cc82-4ed3-bbfe-2b6df16f5a9e",
   "metadata": {},
   "outputs": [],
   "source": [
    "optimizer=optimizers.Adam()\n",
    "loss='categorical_crossentropy'\n",
    "#loss = 'binary_crossentropy'\n",
    "metrics=['accuracy']\n",
    "epochs = 10\n",
    "batch = 16"
   ]
  },
  {
   "cell_type": "code",
   "execution_count": 10,
   "id": "6bcbfebd-9dd9-427d-ad08-0a08fdc9790c",
   "metadata": {},
   "outputs": [],
   "source": [
    "model.compile(optimizer, loss=loss, metrics=metrics)\n"
   ]
  },
  {
   "cell_type": "code",
   "execution_count": 11,
   "id": "70a171b3-bc69-41e2-b26e-9cfb1a7fcc6b",
   "metadata": {},
   "outputs": [
    {
     "name": "stdout",
     "output_type": "stream",
     "text": [
      "(5168,)\n",
      "(5168, 2) [0. 1.]\n",
      "Epoch 1/10\n",
      "323/323 - 116s - loss: 0.4266 - accuracy: 0.8171 - val_loss: 0.1704 - val_accuracy: 0.9444\n",
      "Epoch 2/10\n",
      "323/323 - 124s - loss: 0.1376 - accuracy: 0.9489 - val_loss: 1.0215 - val_accuracy: 0.7361\n",
      "Epoch 3/10\n",
      "323/323 - 110s - loss: 0.0972 - accuracy: 0.9661 - val_loss: 0.4512 - val_accuracy: 0.8194\n",
      "Epoch 4/10\n",
      "323/323 - 113s - loss: 0.0799 - accuracy: 0.9723 - val_loss: 0.9081 - val_accuracy: 0.7361\n",
      "Epoch 5/10\n",
      "323/323 - 113s - loss: 0.0599 - accuracy: 0.9787 - val_loss: 0.2279 - val_accuracy: 0.8889\n",
      "Epoch 6/10\n",
      "323/323 - 109s - loss: 0.0586 - accuracy: 0.9785 - val_loss: 0.4533 - val_accuracy: 0.8194\n",
      "Epoch 7/10\n",
      "323/323 - 143s - loss: 0.0467 - accuracy: 0.9843 - val_loss: 0.4241 - val_accuracy: 0.8750\n",
      "Epoch 8/10\n",
      "323/323 - 115s - loss: 0.0395 - accuracy: 0.9882 - val_loss: 0.0944 - val_accuracy: 0.9583\n",
      "Epoch 9/10\n",
      "323/323 - 107s - loss: 0.0323 - accuracy: 0.9896 - val_loss: 0.3072 - val_accuracy: 0.9167\n",
      "Epoch 10/10\n",
      "323/323 - 105s - loss: 0.0332 - accuracy: 0.9886 - val_loss: 0.1724 - val_accuracy: 0.9306\n",
      "Model saved...\n"
     ]
    }
   ],
   "source": [
    "#y_train = y_train.reshape(-1,1)\n",
    "print(y_train.shape, )\n",
    "\n",
    "from keras.utils import to_categorical\n",
    "y_train_one_hot = to_categorical(y_train)\n",
    "y_test_one_hot = to_categorical(y_test)\n",
    "y_val_one_hot = to_categorical(y_val)\n",
    "\n",
    "# change to [1, 0, 0,..., 0]  --> [[0, 1], [1, 0], ..., [1, 0]]\n",
    "print(y_train_one_hot.shape, y_train_one_hot[-1])\n",
    "\n",
    "modelname = 'model.h5'\n",
    "if os.path.isfile(modelname)==False:\n",
    "    history = model.fit(\n",
    "        X_train, y_train_one_hot,\n",
    "        validation_data = (X_val, y_val_one_hot),\n",
    "        batch_size=batch,\n",
    "        epochs=epochs,\n",
    "        verbose=2,)\n",
    "    model.save(\"model.h5\")\n",
    "    print('Model saved...')\n",
    "\n",
    "else:\n",
    "    model = keras.models.load_model('model.h5')\n",
    "    print('Model loaded...')\n"
   ]
  },
  {
   "cell_type": "code",
   "execution_count": 12,
   "id": "006f2bae-7e26-4cf8-a6d2-d08d230e1590",
   "metadata": {},
   "outputs": [
    {
     "data": {
      "image/png": "[encoded data removed]",
      "text/plain": [
       "<Figure size 432x288 with 2 Axes>"
      ]
     },
     "metadata": {
      "needs_background": "light"
     },
     "output_type": "display_data"
    },
    {
     "name": "stdout",
     "output_type": "stream",
     "text": [
      "f1 0.8565072302558399 recall 0.9871794871794872 precision 0.756385068762279\n"
     ]
    }
   ],
   "source": [
    "y_pred_one = model.predict(X_test)\n",
    "y_pred_binary = []\n",
    "\n",
    "for i in y_pred_one:\n",
    "    if i[1]>i[0]:\n",
    "        y_pred_binary.append(1)\n",
    "    else:\n",
    "        y_pred_binary.append(0)\n",
    "\n",
    "\n",
    "CoMa = confusion_matrix(y_test, y_pred_binary)\n",
    "\n",
    "\n",
    "ax = sns.heatmap(CoMa, annot=True, cmap='Blues')\n",
    "\n",
    "ax.set_title('Confusion Matrix with labels\\n\\n');\n",
    "ax.set_xlabel('\\nPredicted Values')\n",
    "ax.set_ylabel('Actual Values ');\n",
    "\n",
    "## Ticket labels - List must be in alphabetical order\n",
    "ax.xaxis.set_ticklabels(['False','True'])\n",
    "ax.yaxis.set_ticklabels(['False','True'])\n",
    "\n",
    "## Display the visualization of the Confusion Matrix.\n",
    "plt.show()\n",
    "\n",
    "precision = precision_score(y_test, y_pred_binary) \n",
    "recall = recall_score(y_test, y_pred_binary) \n",
    "f1 = f1_score(y_test, y_pred_binary) \n",
    "\n",
    "print('f1',f1,'recall',recall,'precision',precision)"
   ]
  },
  {
   "cell_type": "markdown",
   "id": "415d3004-8056-4c70-abc1-b30630aa8187",
   "metadata": {},
   "source": [
    "# PREDICTION SHOW"
   ]
  },
  {
   "cell_type": "code",
   "execution_count": 19,
   "id": "fd0afdd1-9f0b-4ca5-a155-deb2a372e0d4",
   "metadata": {},
   "outputs": [],
   "source": [
    "os.makedirs('outputs',exist_ok = True)\n",
    "fulltest = []\n",
    "fulltest.extend(test_normal_filename)\n",
    "fulltest.extend(test_pne_filename)\n",
    "\n",
    "\n",
    "for i in range(len(fulltest)):\n",
    "    img_path = fulltest[i]\n",
    "    title = img_path.split(\"/\")[-1]\n",
    "\n",
    "    if y_pred_binary[i]==1:\n",
    "        predict_name= 'ILL'\n",
    "    else:\n",
    "        predict_name= 'NORMAL'\n",
    "\n",
    "    if y_test[i]==1:\n",
    "        name= 'ILL'\n",
    "    else:\n",
    "        name= 'NORMAL'\n",
    "\n",
    "    show(img_path,name='outputs/'+title,title=predict_name+f'({name})')"
   ]
  },
  {
   "cell_type": "code",
   "execution_count": null,
   "id": "1bb254e2-6ea8-4595-b736-19a24466c8bc",
   "metadata": {},
   "outputs": [],
   "source": []
  }
 ],
 "metadata": {
  "kernelspec": {
   "display_name": "Python 3",
   "language": "python",
   "name": "python3"
  },
  "language_info": {
   "codemirror_mode": {
    "name": "ipython",
    "version": 3
   },
   "file_extension": ".py",
   "mimetype": "text/x-python",
   "name": "python",
   "nbconvert_exporter": "python",
   "pygments_lexer": "ipython3",
   "version": "3.8.8"
  }
 },
 "nbformat": 4,
 "nbformat_minor": 5
}
